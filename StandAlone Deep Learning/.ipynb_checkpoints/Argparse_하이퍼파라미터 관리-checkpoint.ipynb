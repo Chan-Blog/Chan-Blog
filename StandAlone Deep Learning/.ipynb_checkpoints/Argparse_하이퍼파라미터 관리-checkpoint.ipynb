{
 "cells": [
  {
   "cell_type": "markdown",
   "id": "eca57e2a",
   "metadata": {},
   "source": [
    "# 하이퍼파라미터를 관리 Tip\n",
    "dictionary도 귀찮은 코더들을 위한 ***argparse***"
   ]
  },
  {
   "cell_type": "code",
   "execution_count": 1,
   "id": "422afbac",
   "metadata": {},
   "outputs": [],
   "source": [
    "import argparse"
   ]
  },
  {
   "cell_type": "code",
   "execution_count": 2,
   "id": "d221525b",
   "metadata": {},
   "outputs": [],
   "source": [
    "#### 말장난 같은 객체 할당 ####\n",
    "parser = argparse.ArgumentParser()\n",
    "args = parser.parse_args(\"\")"
   ]
  },
  {
   "cell_type": "code",
   "execution_count": 3,
   "id": "95e3730a",
   "metadata": {},
   "outputs": [
    {
     "name": "stdout",
     "output_type": "stream",
     "text": [
      "10\n",
      "Namespace(indice_dim=20, num_layer=10)\n",
      "{'num_layer': 10, 'indice_dim': 20}\n"
     ]
    }
   ],
   "source": [
    "# dictionary 같이 원하는 변수를 관리할 수있다 \n",
    "args.num_layer = 10\n",
    "# args['num_layer']  :['']를 . 하나로 대체 \n",
    "print(args.num_layer)\n",
    "\n",
    "args.in_dim = 20\n",
    "print(args)\n",
    "\n",
    "# vars(args) : dictionary로 변환\n",
    "print(vars(args))"
   ]
  }
 ],
 "metadata": {
  "kernelspec": {
   "display_name": "Python 3",
   "language": "python",
   "name": "python3"
  },
  "language_info": {
   "codemirror_mode": {
    "name": "ipython",
    "version": 3
   },
   "file_extension": ".py",
   "mimetype": "text/x-python",
   "name": "python",
   "nbconvert_exporter": "python",
   "pygments_lexer": "ipython3",
   "version": "3.8.8"
  }
 },
 "nbformat": 4,
 "nbformat_minor": 5
}
